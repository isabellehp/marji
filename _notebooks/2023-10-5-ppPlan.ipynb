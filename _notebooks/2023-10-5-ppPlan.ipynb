{
 "cells": [
  {
   "cell_type": "markdown",
   "metadata": {},
   "source": [
    "---\n",
    "toc: true\n",
    "comments: true\n",
    "layout: post\n",
    "title: Passion Project Plan\n",
    "description: Passion Project\n",
    "type: hacks\n",
    "courses: { compsci: {week: 7} }\n",
    "---"
   ]
  },
  {
   "cell_type": "markdown",
   "metadata": {},
   "source": [
    "# Description of Project Idea\n",
    "A remake of the popular game, [Dark Souls](https://en.wikipedia.org/wiki/Dark_Souls#:~:text=Dark%20Souls%20is%20the%20first,PlayStation%203%20and%20Xbox%20360.) but in a terminal-like environment. \n",
    "\n",
    "## Initial Concepts\n",
    "\n",
    "**Isabelle (Scrum Master):**\n",
    "- Should have a character selection screen\n",
    "- When player dies the image should turn gray, implement grayscale here\n",
    "- Maybe pixel art in the game to make visuals more interesting\n",
    "- Use the first boss of dark souls for visuals and various images\n",
    "\n",
    "**Arthur:**\n",
    "- Store user data/stats in database, define models\n",
    "- Look into REST API and maybe data compression as well\n",
    "- Should save a checkpoint that the user \n",
    "- Show a picture of your character in the UI to include images\n",
    "\n",
    "**Rayane:**\n",
    "- Have an image displayed to the user that switches whenever they do something or click a button\n",
    "- Design a very cool looking title screen\n",
    "- Transition from venturing to turn based combat\n",
    "- A database to store the user's data so they can come back to it\n",
    "\n",
    "**Jason:**\n",
    "- Store boss's data/stats in database, define functions\n",
    "- Look into REST API and data compression\n",
    "- Add class-unique skills to do damage, figure out scaling\n",
    "- Plan how the turn-based combat will work\n",
    "\n",
    "**Matthew:**\n",
    "- Be able to \"cd\" into other areas\n",
    "- Create character classes (e.g paladin, knight)\n",
    "- Aid with frontend design, title screens, and basically make everything look pretty\n",
    "- Create boss attacks, skills, scaling, etc.\n",
    "- First tutorial area of dark souls\n",
    "\n",
    "# Overview of screens"
   ]
  },
  {
   "cell_type": "code",
   "execution_count": 12,
   "metadata": {},
   "outputs": [
    {
     "data": {
      "text/html": [
       "\n",
       "<img src=\"/ramjiJarmi/images/ppScreens2.png\">\n"
      ],
      "text/plain": [
       "<IPython.core.display.HTML object>"
      ]
     },
     "metadata": {},
     "output_type": "display_data"
    }
   ],
   "source": [
    "%%html\n",
    "\n",
    "<img src=\"/ramjiJarmi/images/ppScreens2.png\">"
   ]
  },
  {
   "cell_type": "markdown",
   "metadata": {},
   "source": [
    "## Description of screens\n",
    "> Menu Screen\n",
    "- This is the first screen the user will see and it is modeled after the actual Dark Souls title screen\n",
    "- Will try to make as aesthetic as possible\n",
    "- We plan on having a Start button the user can press to move on to the next screen\n",
    "\n",
    "> Character Creation\n",
    "- This is the second screen the user will see\n",
    "- It is designed to take in user inputs for name, gender, and class\n",
    "- These inputs can be used in future screens to personalize each user's experience\n",
    "- The class will be picked from various presets, each with their own health, attack, resistance, power, and name. These data sets will be placed in the backend for the frontend to get.\n",
    "\n",
    "> Gameplay\n",
    "- This is the third screen the user will see\n",
    "- The bulk of the frontend work will likely be here\n",
    "- An image of the boss with its HP bar, an image of your character and your HP values, and the list of actions will all be displayed\n",
    "- After the user enters an action, the backend takes over and will run damage calculations and update the frontend with new values to display in HP bar, a new image, and possibly more\n",
    "\n",
    "> Lose\n",
    "- If the user loses against the boss, this screen will be displayed\n",
    "- The plan is to turn each image grayscale to indicate the loss, add text or image with the iconic Dark Souls death font, and output a message to the user notifying them of the loss\n",
    "\n",
    "> Win\n",
    "- If the user wins against the boss, this screen will be displayed\n",
    "- As we are purposely scaling the boss to be incredibly difficult, this screen is of less importance. We plan on outputting a message to the user notifying them of their victory, potentially grayscaling the boss image, and potentially adding more images like confetti.\n",
    "\n",
    "## Frontend\n",
    "- Title screen and other screens\n",
    "- Buttons\n",
    "- Images of boss\n",
    "- Grayscale\n",
    "- Text output\n",
    "\n",
    "## Backend\n",
    "- Data sets\n",
    "- Figure out how API works and try to set up REST API with get, post, put, delete (requests, class, model, testing, etc.) with jokes API as an example\n",
    "- Function calculation\n",
    "- Balancing\n",
    "\n",
    "# Game Features\n",
    "- Turn based combat\n",
    "- Various images of boss and grayscaling\n",
    "- Use character stats and functions to get data to communicate between frontend and backend with API\n",
    "- Various screens\n",
    "\n",
    "# Data\n",
    "- Split by character or boss\n",
    "- Define each character/boss with a health value, attack, resistance, and power unique to each class\n",
    "- Create function to caluclate damage based off of attack, resistance, and power\n",
    "- Have frontend get data from these presets"
   ]
  }
 ],
 "metadata": {
  "kernelspec": {
   "display_name": "Python 3",
   "language": "python",
   "name": "python3"
  },
  "language_info": {
   "codemirror_mode": {
    "name": "ipython",
    "version": 3
   },
   "file_extension": ".py",
   "mimetype": "text/x-python",
   "name": "python",
   "nbconvert_exporter": "python",
   "pygments_lexer": "ipython3",
   "version": "3.10.12"
  }
 },
 "nbformat": 4,
 "nbformat_minor": 2
}
